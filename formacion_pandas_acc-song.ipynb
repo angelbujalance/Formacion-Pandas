{
 "cells": [
  {
   "cell_type": "code",
   "execution_count": 4,
   "metadata": {},
   "outputs": [],
   "source": [
    "import pandas as pd"
   ]
  },
  {
   "cell_type": "markdown",
   "metadata": {},
   "source": [
    "#Creación de datos\n",
    "\n",
    "En primer lugar, vamos a empezar creando los objetos desde cero. Muchas veces, contaréis con archivos preexistentes. Por ejemplo los datos en un archivo .csv o tendréis acceso a ellos mediante una API. \n",
    "\n",
    "Primero vamos a hablar de los dos objetos principales de pandas:  \"DataFrame\" y \"Serie\".\n",
    "\n",
    "#DataFrame\n",
    "\n",
    "Un DataFrame es una tabla. Contiene un array de entradas individuales, cada una de las cuales tiene un valor determinado. Cada entrada corresponde a una fila (o registro) y a una columna.\n",
    "\n",
    "Pongamos un ejemplo de un DataFrame sencillo:"
   ]
  },
  {
   "cell_type": "code",
   "execution_count": 2,
   "metadata": {},
   "outputs": [
    {
     "data": {
      "text/html": [
       "<div>\n",
       "<style scoped>\n",
       "    .dataframe tbody tr th:only-of-type {\n",
       "        vertical-align: middle;\n",
       "    }\n",
       "\n",
       "    .dataframe tbody tr th {\n",
       "        vertical-align: top;\n",
       "    }\n",
       "\n",
       "    .dataframe thead th {\n",
       "        text-align: right;\n",
       "    }\n",
       "</style>\n",
       "<table border=\"1\" class=\"dataframe\">\n",
       "  <thead>\n",
       "    <tr style=\"text-align: right;\">\n",
       "      <th></th>\n",
       "      <th>Bob</th>\n",
       "      <th>Sue</th>\n",
       "    </tr>\n",
       "  </thead>\n",
       "  <tbody>\n",
       "    <tr>\n",
       "      <th>0</th>\n",
       "      <td>I liked it.</td>\n",
       "      <td>Pretty good.</td>\n",
       "    </tr>\n",
       "    <tr>\n",
       "      <th>1</th>\n",
       "      <td>It was awful.</td>\n",
       "      <td>Bland.</td>\n",
       "    </tr>\n",
       "  </tbody>\n",
       "</table>\n",
       "</div>"
      ],
      "text/plain": [
       "             Bob           Sue\n",
       "0    I liked it.  Pretty good.\n",
       "1  It was awful.        Bland."
      ]
     },
     "execution_count": 2,
     "metadata": {},
     "output_type": "execute_result"
    }
   ],
   "source": [
    "pd.DataFrame({'Bob': ['I liked it.', 'It was awful.'], 'Sue': ['Pretty good.', 'Bland.']})"
   ]
  },
  {
   "cell_type": "markdown",
   "metadata": {},
   "source": [
    "Laa función para crear estos objetos llamados dataframes es: pd.DataFrame(). Para crear estos objetos se utiliza un diccionario donde las llaves corresponden a las columnas de La sintaxis para declarar uno nuevo es un diccionario cuyas claves son los nombres de las columnas (Bob y Sue en este ejemplo), y cuyos valores son una lista de entradas. Esta es la forma estándar de construir un nuevo DataFrame, y la que más probablemente encontrarás.\n",
    "\n",
    "linkcode\n",
    "El constructor del diccionario-lista asigna valores a las etiquetas de las columnas, pero sólo utiliza una cuenta ascendente desde 0 (0, 1, 2, 3, ...) para las etiquetas de las filas. A veces esto está bien, pero muchas veces querremos asignar estas etiquetas nosotros mismos.\n",
    "\n",
    "La lista de etiquetas de fila utilizada en un DataFrame se conoce como Índice. Podemos asignarle valores utilizando un parámetro de índice en nuestro constructor:"
   ]
  },
  {
   "cell_type": "markdown",
   "metadata": {},
   "source": [
    "Pandas es una librería o biblioteca muy extensa, por eso es necesario aprender a leer y entender la documentación:\n",
    "\n",
    "https://pandas.pydata.org/docs/reference/api/pandas.DataFrame.html?highlight=dataframe#pandas.DataFrame"
   ]
  }
 ],
 "metadata": {
  "kernelspec": {
   "display_name": "Python 3.9.12 ('base')",
   "language": "python",
   "name": "python3"
  },
  "language_info": {
   "codemirror_mode": {
    "name": "ipython",
    "version": 3
   },
   "file_extension": ".py",
   "mimetype": "text/x-python",
   "name": "python",
   "nbconvert_exporter": "python",
   "pygments_lexer": "ipython3",
   "version": "3.9.12"
  },
  "orig_nbformat": 4,
  "vscode": {
   "interpreter": {
    "hash": "f7e72d68e400c0bb2a38e8fef553113eeec7ec7995ab1f3709461439b6e1d071"
   }
  }
 },
 "nbformat": 4,
 "nbformat_minor": 2
}
